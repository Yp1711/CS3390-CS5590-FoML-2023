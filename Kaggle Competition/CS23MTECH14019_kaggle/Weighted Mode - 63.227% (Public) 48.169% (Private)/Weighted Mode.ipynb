{
 "cells": [
  {
   "cell_type": "markdown",
   "id": "c56ee4b5",
   "metadata": {},
   "source": [
    "# Weighted Mode of Decision tree, Random Forest & KNN \n",
    "### Got 63.227% (Public) 48.169% (Private)"
   ]
  },
  {
   "cell_type": "markdown",
   "metadata": {},
   "source": [
    "```submitted by\n",
    "Yug Patel - CS23MTECH14019\n",
    "Bhargav Patel - CS23MTECH11026"
   ]
  },
  {
   "cell_type": "code",
   "execution_count": 1,
   "id": "fec8d6b2",
   "metadata": {},
   "outputs": [
    {
     "name": "stdout",
     "output_type": "stream",
     "text": [
      "WARNING:tensorflow:From C:\\Users\\patel\\anaconda3\\Lib\\site-packages\\keras\\src\\losses.py:2976: The name tf.losses.sparse_softmax_cross_entropy is deprecated. Please use tf.compat.v1.losses.sparse_softmax_cross_entropy instead.\n",
      "\n"
     ]
    }
   ],
   "source": [
    "import pandas as pd\n",
    "import numpy as np\n",
    "import matplotlib.pyplot as plt\n",
    "import tensorflow as tf\n",
    "from tensorflow.keras.models import Sequential\n",
    "from tensorflow.keras.layers import Dense\n",
    "from tensorflow.keras.utils import to_categorical\n",
    "from sklearn.model_selection import train_test_split\n",
    "from sklearn.preprocessing import StandardScaler\n",
    "from sklearn.datasets import make_classification\n",
    "%matplotlib inline"
   ]
  },
  {
   "cell_type": "code",
   "execution_count": 2,
   "id": "12e0b4d4",
   "metadata": {},
   "outputs": [
    {
     "data": {
      "text/html": [
       "<div>\n",
       "<style scoped>\n",
       "    .dataframe tbody tr th:only-of-type {\n",
       "        vertical-align: middle;\n",
       "    }\n",
       "\n",
       "    .dataframe tbody tr th {\n",
       "        vertical-align: top;\n",
       "    }\n",
       "\n",
       "    .dataframe thead th {\n",
       "        text-align: right;\n",
       "    }\n",
       "</style>\n",
       "<table border=\"1\" class=\"dataframe\">\n",
       "  <thead>\n",
       "    <tr style=\"text-align: right;\">\n",
       "      <th></th>\n",
       "      <th>Feature 1 (Discrete)</th>\n",
       "      <th>Feature 2 (Discrete)</th>\n",
       "      <th>Feature 3 (Discrete)</th>\n",
       "      <th>Feature 4 (Discrete)</th>\n",
       "      <th>Feature 5 (Discrete)</th>\n",
       "      <th>Feature 6 (Discrete)</th>\n",
       "      <th>Feature 7 (Discrete)</th>\n",
       "      <th>Feature 8 (Discrete)</th>\n",
       "      <th>Feature 9</th>\n",
       "      <th>Feature 10</th>\n",
       "      <th>...</th>\n",
       "      <th>Feature 16</th>\n",
       "      <th>Feature 17</th>\n",
       "      <th>Feature 18</th>\n",
       "      <th>Feature 19 (Discrete)</th>\n",
       "      <th>Feature 20 (Discrete)</th>\n",
       "      <th>Feature 21 (Discrete)</th>\n",
       "      <th>Feature 22 (Discrete)</th>\n",
       "      <th>Feature 23 (Discrete)</th>\n",
       "      <th>Feature 24</th>\n",
       "      <th>Target Variable (Discrete)</th>\n",
       "    </tr>\n",
       "  </thead>\n",
       "  <tbody>\n",
       "    <tr>\n",
       "      <th>0</th>\n",
       "      <td>1404</td>\n",
       "      <td>12</td>\n",
       "      <td>64</td>\n",
       "      <td>14</td>\n",
       "      <td>3</td>\n",
       "      <td>1</td>\n",
       "      <td>1</td>\n",
       "      <td>1</td>\n",
       "      <td>110.502</td>\n",
       "      <td>35775.2</td>\n",
       "      <td>...</td>\n",
       "      <td>NaN</td>\n",
       "      <td>NaN</td>\n",
       "      <td>15.04</td>\n",
       "      <td>104</td>\n",
       "      <td>12</td>\n",
       "      <td>2</td>\n",
       "      <td>32</td>\n",
       "      <td>1409</td>\n",
       "      <td>37677.1</td>\n",
       "      <td>1</td>\n",
       "    </tr>\n",
       "    <tr>\n",
       "      <th>1</th>\n",
       "      <td>909</td>\n",
       "      <td>0</td>\n",
       "      <td>235</td>\n",
       "      <td>32</td>\n",
       "      <td>1</td>\n",
       "      <td>1</td>\n",
       "      <td>1</td>\n",
       "      <td>1</td>\n",
       "      <td>-40.448</td>\n",
       "      <td>35779.4</td>\n",
       "      <td>...</td>\n",
       "      <td>2200.3</td>\n",
       "      <td>4900.005</td>\n",
       "      <td>12.03</td>\n",
       "      <td>20</td>\n",
       "      <td>1</td>\n",
       "      <td>0</td>\n",
       "      <td>13</td>\n",
       "      <td>909</td>\n",
       "      <td>25239.1</td>\n",
       "      <td>1</td>\n",
       "    </tr>\n",
       "    <tr>\n",
       "      <th>2</th>\n",
       "      <td>654</td>\n",
       "      <td>3</td>\n",
       "      <td>175</td>\n",
       "      <td>2</td>\n",
       "      <td>1</td>\n",
       "      <td>1</td>\n",
       "      <td>1</td>\n",
       "      <td>1</td>\n",
       "      <td>-27.445</td>\n",
       "      <td>35770.4</td>\n",
       "      <td>...</td>\n",
       "      <td>1973.3</td>\n",
       "      <td>10000.004</td>\n",
       "      <td>13.01</td>\n",
       "      <td>1</td>\n",
       "      <td>1</td>\n",
       "      <td>0</td>\n",
       "      <td>13</td>\n",
       "      <td>654</td>\n",
       "      <td>27683.5</td>\n",
       "      <td>1</td>\n",
       "    </tr>\n",
       "    <tr>\n",
       "      <th>3</th>\n",
       "      <td>1372</td>\n",
       "      <td>12</td>\n",
       "      <td>382</td>\n",
       "      <td>14</td>\n",
       "      <td>2</td>\n",
       "      <td>0</td>\n",
       "      <td>1</td>\n",
       "      <td>0</td>\n",
       "      <td>0.001</td>\n",
       "      <td>509.2</td>\n",
       "      <td>...</td>\n",
       "      <td>NaN</td>\n",
       "      <td>NaN</td>\n",
       "      <td>NaN</td>\n",
       "      <td>313</td>\n",
       "      <td>12</td>\n",
       "      <td>10</td>\n",
       "      <td>54</td>\n",
       "      <td>1377</td>\n",
       "      <td>39363.2</td>\n",
       "      <td>0</td>\n",
       "    </tr>\n",
       "    <tr>\n",
       "      <th>4</th>\n",
       "      <td>786</td>\n",
       "      <td>3</td>\n",
       "      <td>199</td>\n",
       "      <td>2</td>\n",
       "      <td>1</td>\n",
       "      <td>0</td>\n",
       "      <td>1</td>\n",
       "      <td>0</td>\n",
       "      <td>0.001</td>\n",
       "      <td>612.1</td>\n",
       "      <td>...</td>\n",
       "      <td>NaN</td>\n",
       "      <td>NaN</td>\n",
       "      <td>NaN</td>\n",
       "      <td>171</td>\n",
       "      <td>1</td>\n",
       "      <td>5</td>\n",
       "      <td>11</td>\n",
       "      <td>786</td>\n",
       "      <td>40044.4</td>\n",
       "      <td>2</td>\n",
       "    </tr>\n",
       "  </tbody>\n",
       "</table>\n",
       "<p>5 rows × 25 columns</p>\n",
       "</div>"
      ],
      "text/plain": [
       "   Feature 1 (Discrete)  Feature 2 (Discrete)  Feature 3 (Discrete)  \\\n",
       "0                  1404                    12                    64   \n",
       "1                   909                     0                   235   \n",
       "2                   654                     3                   175   \n",
       "3                  1372                    12                   382   \n",
       "4                   786                     3                   199   \n",
       "\n",
       "   Feature 4 (Discrete)  Feature 5 (Discrete)  Feature 6 (Discrete)  \\\n",
       "0                    14                     3                     1   \n",
       "1                    32                     1                     1   \n",
       "2                     2                     1                     1   \n",
       "3                    14                     2                     0   \n",
       "4                     2                     1                     0   \n",
       "\n",
       "   Feature 7 (Discrete)  Feature 8 (Discrete)  Feature 9  Feature 10  ...  \\\n",
       "0                     1                     1    110.502     35775.2  ...   \n",
       "1                     1                     1    -40.448     35779.4  ...   \n",
       "2                     1                     1    -27.445     35770.4  ...   \n",
       "3                     1                     0      0.001       509.2  ...   \n",
       "4                     1                     0      0.001       612.1  ...   \n",
       "\n",
       "   Feature 16  Feature 17  Feature 18  Feature 19 (Discrete)  \\\n",
       "0         NaN         NaN       15.04                    104   \n",
       "1      2200.3    4900.005       12.03                     20   \n",
       "2      1973.3   10000.004       13.01                      1   \n",
       "3         NaN         NaN         NaN                    313   \n",
       "4         NaN         NaN         NaN                    171   \n",
       "\n",
       "   Feature 20 (Discrete)  Feature 21 (Discrete)  Feature 22 (Discrete)  \\\n",
       "0                     12                      2                     32   \n",
       "1                      1                      0                     13   \n",
       "2                      1                      0                     13   \n",
       "3                     12                     10                     54   \n",
       "4                      1                      5                     11   \n",
       "\n",
       "   Feature 23 (Discrete)  Feature 24  Target Variable (Discrete)  \n",
       "0                   1409     37677.1                           1  \n",
       "1                    909     25239.1                           1  \n",
       "2                    654     27683.5                           1  \n",
       "3                   1377     39363.2                           0  \n",
       "4                    786     40044.4                           2  \n",
       "\n",
       "[5 rows x 25 columns]"
      ]
     },
     "execution_count": 2,
     "metadata": {},
     "output_type": "execute_result"
    }
   ],
   "source": [
    "data = pd.read_csv(r\"iith_foml_2023_train.csv\")\n",
    "data.head()"
   ]
  },
  {
   "cell_type": "code",
   "execution_count": 5,
   "id": "6c9b6422",
   "metadata": {},
   "outputs": [
    {
     "data": {
      "text/plain": [
       "Feature 1 (Discrete)            0\n",
       "Feature 2 (Discrete)            0\n",
       "Feature 3 (Discrete)            0\n",
       "Feature 4 (Discrete)            0\n",
       "Feature 5 (Discrete)            0\n",
       "Feature 6 (Discrete)            0\n",
       "Feature 7 (Discrete)            0\n",
       "Feature 8 (Discrete)            0\n",
       "Feature 9                      14\n",
       "Feature 10                      1\n",
       "Feature 11                      1\n",
       "Feature 12                      1\n",
       "Feature 13                      1\n",
       "Feature 14                      1\n",
       "Feature 15                     72\n",
       "Feature 16                    669\n",
       "Feature 17                    546\n",
       "Feature 18                    330\n",
       "Feature 19 (Discrete)           0\n",
       "Feature 20 (Discrete)           0\n",
       "Feature 21 (Discrete)           0\n",
       "Feature 22 (Discrete)           0\n",
       "Feature 23 (Discrete)           0\n",
       "Feature 24                      1\n",
       "Target Variable (Discrete)      0\n",
       "dtype: int64"
      ]
     },
     "execution_count": 5,
     "metadata": {},
     "output_type": "execute_result"
    }
   ],
   "source": [
    "data.isnull().sum() #along columns"
   ]
  },
  {
   "cell_type": "code",
   "execution_count": 6,
   "id": "c84dccf5",
   "metadata": {},
   "outputs": [
    {
     "data": {
      "text/plain": [
       "Feature 1 (Discrete)         -0.035219\n",
       "Feature 2 (Discrete)         -0.053451\n",
       "Feature 3 (Discrete)         -0.069282\n",
       "Feature 4 (Discrete)         -0.014784\n",
       "Feature 5 (Discrete)          0.191183\n",
       "Feature 6 (Discrete)          0.282696\n",
       "Feature 7 (Discrete)         -0.170527\n",
       "Feature 8 (Discrete)          0.074167\n",
       "Feature 9                     0.061550\n",
       "Feature 10                    0.024457\n",
       "Feature 11                    0.084739\n",
       "Feature 12                    0.079235\n",
       "Feature 13                    0.054799\n",
       "Feature 14                    0.050529\n",
       "Feature 15                   -0.120844\n",
       "Feature 16                   -0.135530\n",
       "Feature 17                   -0.194367\n",
       "Feature 18                   -0.075879\n",
       "Feature 19 (Discrete)         0.051699\n",
       "Feature 20 (Discrete)         0.143286\n",
       "Feature 21 (Discrete)        -0.045311\n",
       "Feature 22 (Discrete)         0.052072\n",
       "Feature 23 (Discrete)        -0.035562\n",
       "Feature 24                    0.088112\n",
       "Target Variable (Discrete)    1.000000\n",
       "Name: Target Variable (Discrete), dtype: float64"
      ]
     },
     "execution_count": 6,
     "metadata": {},
     "output_type": "execute_result"
    }
   ],
   "source": [
    "correlation_matrix = data.corr()\n",
    "correlation_matrix.iloc[-1, :]"
   ]
  },
  {
   "cell_type": "code",
   "execution_count": 8,
   "id": "792e2241",
   "metadata": {},
   "outputs": [],
   "source": [
    "data.drop(['Feature 16','Feature 17','Feature 18'],axis=1,inplace=True)"
   ]
  },
  {
   "cell_type": "code",
   "execution_count": 9,
   "id": "b433810e",
   "metadata": {},
   "outputs": [
    {
     "data": {
      "text/plain": [
       "0      0\n",
       "1      0\n",
       "2      0\n",
       "3      1\n",
       "4      0\n",
       "      ..\n",
       "989    0\n",
       "990    0\n",
       "991    0\n",
       "992    0\n",
       "993    0\n",
       "Length: 994, dtype: int64"
      ]
     },
     "execution_count": 9,
     "metadata": {},
     "output_type": "execute_result"
    }
   ],
   "source": [
    "data.isnull().sum(axis=1) #along rows"
   ]
  },
  {
   "cell_type": "code",
   "execution_count": 7,
   "id": "a037089e",
   "metadata": {},
   "outputs": [
    {
     "data": {
      "text/plain": [
       "Feature 1 (Discrete)         -0.035219\n",
       "Feature 2 (Discrete)         -0.053451\n",
       "Feature 3 (Discrete)         -0.069282\n",
       "Feature 4 (Discrete)         -0.014784\n",
       "Feature 5 (Discrete)          0.191183\n",
       "Feature 6 (Discrete)          0.282696\n",
       "Feature 7 (Discrete)         -0.170527\n",
       "Feature 8 (Discrete)          0.074167\n",
       "Feature 9                     0.061550\n",
       "Feature 10                    0.024457\n",
       "Feature 11                    0.084739\n",
       "Feature 12                    0.079235\n",
       "Feature 13                    0.054799\n",
       "Feature 14                    0.050529\n",
       "Feature 15                   -0.120844\n",
       "Feature 16                   -0.135530\n",
       "Feature 17                   -0.194367\n",
       "Feature 18                   -0.075879\n",
       "Feature 19 (Discrete)         0.051699\n",
       "Feature 20 (Discrete)         0.143286\n",
       "Feature 21 (Discrete)        -0.045311\n",
       "Feature 22 (Discrete)         0.052072\n",
       "Feature 23 (Discrete)        -0.035562\n",
       "Feature 24                    0.088112\n",
       "Target Variable (Discrete)    1.000000\n",
       "Name: Target Variable (Discrete), dtype: float64"
      ]
     },
     "execution_count": 7,
     "metadata": {},
     "output_type": "execute_result"
    }
   ],
   "source": [
    "correlation_matrix = data.corr()\n",
    "correlation_matrix.iloc[-1, :]"
   ]
  },
  {
   "cell_type": "code",
   "execution_count": 8,
   "id": "d9792274",
   "metadata": {},
   "outputs": [
    {
     "data": {
      "text/plain": [
       "Feature 1 (Discrete)         -0.035219\n",
       "Feature 2 (Discrete)         -0.053451\n",
       "Feature 3 (Discrete)         -0.069282\n",
       "Feature 4 (Discrete)         -0.014784\n",
       "Feature 5 (Discrete)          0.191183\n",
       "Feature 6 (Discrete)          0.282696\n",
       "Feature 7 (Discrete)         -0.170527\n",
       "Feature 8 (Discrete)          0.074167\n",
       "Feature 9                     0.059680\n",
       "Feature 10                    0.024022\n",
       "Feature 11                    0.083232\n",
       "Feature 12                    0.077826\n",
       "Feature 13                    0.053825\n",
       "Feature 14                    0.049631\n",
       "Feature 15                   -0.115707\n",
       "Feature 16                   -0.075607\n",
       "Feature 17                   -0.131365\n",
       "Feature 18                   -0.061317\n",
       "Feature 19 (Discrete)         0.051699\n",
       "Feature 20 (Discrete)         0.143286\n",
       "Feature 21 (Discrete)        -0.045311\n",
       "Feature 22 (Discrete)         0.052072\n",
       "Feature 23 (Discrete)        -0.035562\n",
       "Feature 24                    0.086545\n",
       "Target Variable (Discrete)    1.000000\n",
       "Name: Target Variable (Discrete), dtype: float64"
      ]
     },
     "execution_count": 8,
     "metadata": {},
     "output_type": "execute_result"
    }
   ],
   "source": [
    "data = pd.read_csv(r\"iith_foml_2023_train.csv\")\n",
    "data_filled = data.fillna(data.mean())\n",
    "data_filled.corr().iloc[-1,:]"
   ]
  },
  {
   "cell_type": "code",
   "execution_count": 43,
   "id": "c1ef6b62",
   "metadata": {},
   "outputs": [],
   "source": [
    "df =  pd.read_csv(r\"iith_foml_2023_train.csv\")\n",
    "columns_to_fill = ['Feature 15', 'Feature 16', 'Feature 17', 'Feature 18']\n",
    "columns_to_fill_mean = ['Feature 9']\n",
    "columns_to_fill_mode = ['Feature 10', 'Feature 11', 'Feature 12', 'Feature 13', 'Feature 14', 'Feature 24']\n",
    "\n",
    "df[columns_to_fill] = df[columns_to_fill].fillna(0)\n",
    "\n",
    "df[columns_to_fill_mean] = df[columns_to_fill_mean].fillna(df['Feature 9'].mean())\n",
    "\n",
    "\n",
    "for column in columns_to_fill_mode:\n",
    "    df[column] = df[column].fillna(df[column].mode()[0])"
   ]
  },
  {
   "cell_type": "code",
   "execution_count": 91,
   "id": "87fea363",
   "metadata": {},
   "outputs": [],
   "source": [
    "target_correlation_threshold = 0.15\n",
    "selected_features = correlation_matrix[(correlation_matrix['Target Variable (Discrete)'] > target_correlation_threshold) | (correlation_matrix['Target Variable (Discrete)'] < -target_correlation_threshold)].index\n",
    "subset_1=data[selected_features]\n",
    "drop_subset_2=['Feature 9', 'Feature 10', 'Feature 13', 'Feature 14', 'Feature 19 (Discrete)', 'Feature 21 (Discrete)' , 'Feature 22 (Discrete)', 'Feature 23 (Discrete)']\n",
    "drop_subset_3=['Feature 10', 'Feature 14', 'Feature 4 (Discrete)', 'Feature 23 (Discrete)']\n",
    "drop_subset_4=['Feature 21 (Discrete)','Feature 3 (Discrete)','Feature 2 (Discrete)','Feature 18','Feature 9','Feature 19 (Discrete)','Feature 13','Feature 10', 'Feature 14', 'Feature 4 (Discrete)', 'Feature 23 (Discrete)','Feature 22 (Discrete)']\n",
    "drop_subset_5=['Feature 14', 'Feature 23 (Discrete)']\n",
    "drop_subset_6=['Feature 10', 'Feature 4 (Discrete)']\n",
    "drop_subset_7=['Feature 10', 'Feature 4 (Discrete)', 'Feature 23 (Discrete)']\n",
    "subset_2=df.drop(drop_subset_2,axis=1)\n",
    "subset_3=df.drop(drop_subset_3,axis=1)\n",
    "subset_4=data_filled.drop(drop_subset_4,axis=1)\n",
    "subset_5=data_filled.drop(drop_subset_5,axis=1)\n",
    "subset_6=data_filled.drop(drop_subset_6,axis=1)\n",
    "subset_7=data_filled.drop(drop_subset_7,axis=1)"
   ]
  },
  {
   "cell_type": "markdown",
   "id": "cfede133",
   "metadata": {},
   "source": [
    "### New Analysis "
   ]
  },
  {
   "cell_type": "code",
   "execution_count": 93,
   "id": "69ed4d6f",
   "metadata": {},
   "outputs": [],
   "source": [
    "# Split the data into training and testing sets\n",
    "X= subset_3.drop(['Target Variable (Discrete)'],axis=1)\n",
    "y= subset_3['Target Variable (Discrete)']\n",
    "X_actual_test = pd.read_csv('iith_foml_2023_test.csv').drop(drop_subset_3,axis=1)\n",
    "X_actual_test = X_actual_test.fillna(X_actual_test.mean())\n",
    "X_train, X_test, y_train, y_test = train_test_split(X,y,test_size = 0.2,random_state=1)"
   ]
  },
  {
   "cell_type": "markdown",
   "id": "d6418420",
   "metadata": {},
   "source": [
    "### Model_1"
   ]
  },
  {
   "cell_type": "code",
   "execution_count": 94,
   "id": "79818759",
   "metadata": {},
   "outputs": [
    {
     "data": {
      "text/plain": [
       "[<matplotlib.lines.Line2D at 0x269f2960a10>]"
      ]
     },
     "execution_count": 94,
     "metadata": {},
     "output_type": "execute_result"
    },
    {
     "data": {
      "image/png": "[encoded data removed]",
      "text/plain": [
       "<Figure size 640x480 with 1 Axes>"
      ]
     },
     "metadata": {},
     "output_type": "display_data"
    }
   ],
   "source": [
    "score_list = []\n",
    "for i in range(10,50):\n",
    "    \n",
    "    model_1 = RandomForestClassifier(n_estimators=i, random_state=42)\n",
    "    model_1.fit(X_train,y_train)\n",
    "    score_list.append(model_1.score(X_test,y_test))\n",
    "    \n",
    "#y_pred = model_1.predict(X_test)\n",
    "\n",
    "# Evaluate the model\n",
    "#print(\"Accuracy:\", accuracy_score(y_test, y_pred))\n",
    "plt.plot(range(10,50),score_list)"
   ]
  },
  {
   "cell_type": "code",
   "execution_count": 95,
   "id": "37e0b80e",
   "metadata": {},
   "outputs": [
    {
     "data": {
      "text/plain": [
       "0.8844221105527639"
      ]
     },
     "execution_count": 95,
     "metadata": {},
     "output_type": "execute_result"
    }
   ],
   "source": [
    "model_1 = RandomForestClassifier(n_estimators=29, random_state=42) #previously 12\n",
    "model_1.fit(X_train,y_train)\n",
    "model_1.score(X_test,y_test)"
   ]
  },
  {
   "cell_type": "code",
   "execution_count": 96,
   "id": "1e15a3b0",
   "metadata": {},
   "outputs": [
    {
     "data": {
      "text/plain": [
       "array([ 6,  0,  1,  1,  1,  0,  1,  5,  1,  0,  1,  6,  0,  1,  1,  0,  0,\n",
       "        1,  1,  1,  1,  1,  1,  1,  0,  0,  6,  0,  1,  0,  0,  1,  1,  6,\n",
       "        1,  0,  6,  0,  0,  1,  1,  1,  1,  1,  0,  1,  1,  0,  6,  1,  0,\n",
       "        1,  1,  1,  1,  1,  6,  0,  0,  0,  1,  1,  1,  6,  1,  1,  1,  1,\n",
       "        1,  1,  1,  2,  1,  1,  6,  1,  1,  1,  1,  1,  1,  1,  0,  1,  6,\n",
       "        0,  1,  1,  1,  1,  1,  0,  0,  1,  1,  1,  0,  1,  2,  0,  1,  0,\n",
       "        0,  1,  1,  1,  1,  0,  0,  2,  1,  0,  0,  0,  0,  6,  0,  1,  2,\n",
       "        1,  0,  1,  1,  1,  6,  1,  1,  1,  1,  1,  1,  1,  1,  0,  0,  0,\n",
       "        1,  2,  1,  0,  0,  1,  0,  0,  1,  1,  6,  0,  1,  0,  1,  1,  6,\n",
       "        1,  1,  1,  1,  0,  1,  1,  0,  1,  0,  0,  0,  1,  0,  0,  0,  1,\n",
       "        0,  0,  1,  1,  1,  1,  1,  1,  0,  0,  2,  1,  1,  1,  0,  1,  1,\n",
       "        1,  1,  1,  5,  0,  0,  6,  1,  1,  0,  5,  1,  1,  1,  0,  1,  6,\n",
       "        1,  1,  1,  0,  1, 14,  0,  0,  0,  0,  0,  1,  1,  0,  1,  1,  1,\n",
       "        1,  0,  1,  1,  6,  1,  1,  0,  1,  0,  1,  1,  1,  1,  0,  1,  1,\n",
       "        0,  0,  0,  1,  1,  1,  1,  5,  1,  6,  0,  1,  0,  5,  1,  1,  1,\n",
       "        1,  0,  0,  0,  1,  6,  1,  1,  0,  0,  0,  0,  0,  0,  0,  0,  0,\n",
       "        1,  1,  5,  6,  0,  0,  1,  1,  1,  1,  1,  1,  0,  1,  2,  1,  0,\n",
       "        1,  0,  1,  1,  6,  0,  0,  0,  1, 14,  1,  1,  1,  1,  1,  1,  1,\n",
       "        1,  1,  6,  1,  0,  1,  1,  0,  1,  1,  0,  1,  1,  1,  1,  1,  0,\n",
       "        0,  1,  0,  1,  0,  1,  1,  0,  0,  1,  1,  1,  1,  1,  1,  1,  1,\n",
       "        0,  1,  1,  1,  0,  1,  0,  0,  1,  1,  1,  1,  2,  1,  1,  1,  0,\n",
       "        6,  1,  6,  1,  1,  1,  0,  6,  0,  1,  0,  1,  0,  1,  1,  1,  1,\n",
       "        0,  1,  1,  1,  0,  1,  0,  1,  1,  1,  1,  0,  1,  1,  1,  1,  1,\n",
       "        0,  0,  2,  1,  1,  0,  1,  1,  2,  1,  1,  6,  0,  1,  0,  1,  1,\n",
       "        1,  1,  1,  1,  0,  1,  1,  1,  0,  0,  0,  1,  0,  1,  1,  1,  1,\n",
       "        0], dtype=int64)"
      ]
     },
     "execution_count": 96,
     "metadata": {},
     "output_type": "execute_result"
    }
   ],
   "source": [
    "y_pred_1=model_1.predict(X_actual_test)\n",
    "y_pred_1"
   ]
  },
  {
   "cell_type": "code",
   "execution_count": 97,
   "id": "a98157af",
   "metadata": {},
   "outputs": [
    {
     "data": {
      "text/plain": [
       "1.0"
      ]
     },
     "execution_count": 97,
     "metadata": {},
     "output_type": "execute_result"
    }
   ],
   "source": [
    "model_1_1 = RandomForestClassifier(n_estimators=17,criterion=\"gini\",random_state=42)\n",
    "model_1_1.fit(X,y)\n",
    "model_1_1.score(X_test,y_test)"
   ]
  },
  {
   "cell_type": "code",
   "execution_count": 98,
   "id": "16cde6ae",
   "metadata": {},
   "outputs": [
    {
     "data": {
      "text/plain": [
       "array([ 6,  5,  1,  1,  1,  2,  1,  5,  5,  0,  1,  6,  0,  1,  1,  0,  1,\n",
       "        1,  1,  1,  5,  2,  1,  1,  0,  0,  6,  1,  1,  0,  0,  1,  1,  6,\n",
       "        1,  0,  6,  0,  0,  1,  1,  1,  1,  1,  0,  1,  1,  0,  6,  1,  2,\n",
       "        1,  1,  1,  1,  1,  6,  2,  0,  0,  1,  1,  1,  6,  1,  1,  1,  1,\n",
       "        1,  1,  1,  1,  1,  1,  6,  1,  1,  1,  1,  1,  1,  1,  0,  1,  6,\n",
       "        0,  1,  1,  1,  1,  1,  0,  1,  1,  1,  1,  0,  1,  2,  0,  1,  0,\n",
       "        0,  1,  1,  1,  1,  0,  0,  1,  1,  0,  0,  0,  0,  6,  0,  1,  2,\n",
       "        1,  0,  1,  1,  1,  6,  1,  1,  1,  1,  1,  1,  1,  1,  0,  0,  2,\n",
       "        1,  2,  1,  0,  0,  1,  0,  1,  1,  1,  6,  2,  1,  0,  1,  1,  6,\n",
       "        1,  1,  1,  1,  0,  1,  1,  0,  1,  0,  0,  2,  1,  0,  0,  0,  1,\n",
       "        0,  0,  1,  1,  1,  1,  1,  1,  0,  0,  2,  5,  1,  1,  0,  1,  1,\n",
       "        5,  1,  1,  5,  0,  0,  6,  1,  1,  0,  1,  1,  1,  1,  0,  1,  6,\n",
       "        1,  1,  1,  0,  1, 14,  0,  0,  0,  0,  1,  1,  1,  0,  1,  1,  1,\n",
       "        1,  0,  1,  1,  6,  1,  1,  0,  1,  2,  1,  1,  5,  1,  0,  1,  1,\n",
       "        0,  0,  0,  1,  1,  2,  1,  5,  1,  6,  0,  1,  0,  1,  1,  1,  1,\n",
       "        1,  0,  0,  0,  1,  6,  1,  1,  0,  0,  0,  0,  0,  0,  0,  0,  0,\n",
       "        1,  1,  5,  6,  0,  0,  1,  1,  1,  1,  1,  1,  0,  1,  2,  1,  0,\n",
       "        1,  0,  1,  1,  6,  0,  0,  0,  1, 14,  1,  1,  1,  1,  1,  2,  1,\n",
       "        1,  1,  6,  1,  1,  1,  1,  0,  1,  1,  0,  1,  2,  1,  1,  1,  0,\n",
       "        0,  1,  0,  1,  0,  1,  1,  0,  0,  1,  1,  1,  1,  1,  1,  1,  1,\n",
       "        0,  1,  1,  1,  0,  1,  0,  0,  1,  1,  1,  1,  1,  5,  1,  1,  0,\n",
       "        6,  1,  6,  1,  1,  1,  0,  6,  0,  1,  0,  1,  0,  1,  1,  1,  1,\n",
       "        0,  1,  1,  1,  0,  1,  5,  1,  1,  1,  1,  0,  1,  1,  1,  1,  1,\n",
       "        0,  0,  2,  1,  1,  5,  1,  1,  1,  1,  1,  6,  0,  1,  0,  1,  1,\n",
       "        1,  1,  1,  1,  0,  1,  1,  1,  0,  1,  0,  1,  0,  1,  1,  1,  1,\n",
       "        0], dtype=int64)"
      ]
     },
     "execution_count": 98,
     "metadata": {},
     "output_type": "execute_result"
    }
   ],
   "source": [
    "y_pred_4 = model_1_1.predict(X_actual_test)\n",
    "y_pred_4"
   ]
  },
  {
   "cell_type": "markdown",
   "id": "593d80c5",
   "metadata": {},
   "source": [
    "### Model_2"
   ]
  },
  {
   "cell_type": "code",
   "execution_count": 99,
   "id": "e0ae5bd8",
   "metadata": {},
   "outputs": [
    {
     "data": {
      "text/plain": [
       "0.8693467336683417"
      ]
     },
     "execution_count": 99,
     "metadata": {},
     "output_type": "execute_result"
    }
   ],
   "source": [
    "from sklearn.tree import DecisionTreeClassifier\n",
    "model_2=DecisionTreeClassifier(criterion='entropy', max_depth= 7,random_state=1)\n",
    "model_2.fit(X_train,y_train)\n",
    "model_2.score(X_test,y_test)\n"
   ]
  },
  {
   "cell_type": "code",
   "execution_count": 100,
   "id": "2d4d6738",
   "metadata": {},
   "outputs": [
    {
     "data": {
      "text/plain": [
       "array([ 6,  5,  1,  1,  8,  5,  1,  5,  5,  0,  1,  1,  0,  1,  5,  0,  2,\n",
       "        1,  1,  1,  8,  2,  1,  1,  0,  1,  6,  0,  1,  0, 13,  1,  1,  6,\n",
       "        1,  0,  6,  1,  0,  8, 14,  1,  1,  8,  0,  1,  1,  0,  1,  1,  1,\n",
       "        1,  1,  1,  1,  1,  6,  0,  0,  0,  1,  1,  1,  6,  1,  1,  1,  1,\n",
       "        1,  1,  1,  5,  1,  1,  6,  1,  1,  1,  1,  1,  5,  1,  0,  1,  6,\n",
       "        0,  1,  1,  1,  1,  1,  0,  5,  1,  1,  1,  0,  1,  2,  0,  1,  2,\n",
       "        0,  1,  1,  1,  8,  1,  0,  5,  1,  0,  0,  7,  0,  6,  0,  1,  5,\n",
       "        1,  0,  1,  1,  1,  6,  1,  1,  5,  5,  1,  1,  1,  1,  0,  0,  5,\n",
       "        2,  8,  1,  0,  0,  1,  0,  5,  1,  1,  6,  5,  1,  0,  1,  1,  6,\n",
       "        8,  1,  1,  1,  0,  1,  1,  0,  1,  0,  7,  5,  6,  0,  0,  0,  1,\n",
       "        0,  0,  1,  1,  1,  1,  1,  1,  0,  0,  2,  5,  1,  1,  5,  1,  1,\n",
       "        5,  1,  1,  5,  0,  1,  6,  1,  1,  0,  1,  1,  1,  1,  0,  1,  6,\n",
       "        1,  1,  1,  0,  1, 14,  0,  1,  5,  0,  1,  1,  1,  0,  1,  1,  1,\n",
       "        1,  0,  1,  1,  6,  1,  1,  0,  1,  5,  1,  1,  5,  1,  0,  1,  1,\n",
       "        1,  0,  0,  1,  1,  5,  1,  2,  1,  6,  0,  2,  0,  2,  1,  1,  1,\n",
       "        1,  0,  0,  0,  5,  6,  1,  1,  0,  0,  0,  0,  0,  0,  0,  0,  0,\n",
       "        1,  1, 10,  6,  0,  0,  1,  1,  1,  1,  1,  1, 10,  1,  2,  8,  0,\n",
       "        1,  0,  1,  1,  6,  0,  8,  0,  1, 14,  2,  1,  1,  1,  1,  2,  1,\n",
       "        1,  1,  6,  1,  5,  1,  1,  0,  1,  1,  5,  1,  8,  1,  1,  1,  0,\n",
       "        0,  0,  0,  1,  0,  1,  1,  0,  0,  1,  1,  1,  1,  1,  1,  6,  1,\n",
       "        1,  1,  1,  1,  0,  5,  0,  0,  1,  1,  1,  1,  2,  1,  1,  1,  0,\n",
       "        6,  1,  6,  1,  1,  1,  0,  1,  0,  1,  0,  1,  0,  1,  1,  1,  1,\n",
       "        0,  1,  1, 14,  5,  1,  5,  1,  1,  1,  1,  0,  1,  1,  1,  1,  1,\n",
       "        2,  0,  0,  1,  5, 10,  1,  1,  2,  1,  1,  6,  1,  1,  0,  1,  1,\n",
       "        1,  1,  6,  1,  0,  1,  1,  1,  0,  1,  0,  1, 13,  1,  1,  1,  1,\n",
       "        1], dtype=int64)"
      ]
     },
     "execution_count": 100,
     "metadata": {},
     "output_type": "execute_result"
    }
   ],
   "source": [
    "y_pred_2=model_2.predict(X_actual_test)\n",
    "y_pred_2"
   ]
  },
  {
   "cell_type": "markdown",
   "id": "8164ea8a",
   "metadata": {},
   "source": [
    "\n",
    "### Model_3"
   ]
  },
  {
   "cell_type": "code",
   "execution_count": 101,
   "id": "100fe8f6",
   "metadata": {},
   "outputs": [],
   "source": [
    "from sklearn.neighbors import KNeighborsClassifier\n",
    "\n",
    "Q1 = X.quantile(0.25)\n",
    "Q3 = X.quantile(0.75)\n",
    "IQR = Q3 - Q1\n",
    "X_for_knn=X[(X > (Q1 - 1.5 * IQR)) |(X < (Q3 + 1.5 * IQR))]\n",
    "X_for_knn=X.fillna(X_for_knn.median())\n",
    "\n",
    "X_train_for_knn, X_test_for_knn, y_train_for_knn, y_test_for_knn = train_test_split(X_for_knn,y,test_size = 0.2,random_state=1)"
   ]
  },
  {
   "cell_type": "code",
   "execution_count": 102,
   "id": "3773b9fe",
   "metadata": {},
   "outputs": [
    {
     "data": {
      "text/html": [
       "<div>\n",
       "<style scoped>\n",
       "    .dataframe tbody tr th:only-of-type {\n",
       "        vertical-align: middle;\n",
       "    }\n",
       "\n",
       "    .dataframe tbody tr th {\n",
       "        vertical-align: top;\n",
       "    }\n",
       "\n",
       "    .dataframe thead th {\n",
       "        text-align: right;\n",
       "    }\n",
       "</style>\n",
       "<table border=\"1\" class=\"dataframe\">\n",
       "  <thead>\n",
       "    <tr style=\"text-align: right;\">\n",
       "      <th></th>\n",
       "      <th>Feature 1 (Discrete)</th>\n",
       "      <th>Feature 2 (Discrete)</th>\n",
       "      <th>Feature 3 (Discrete)</th>\n",
       "      <th>Feature 5 (Discrete)</th>\n",
       "      <th>Feature 6 (Discrete)</th>\n",
       "      <th>Feature 7 (Discrete)</th>\n",
       "      <th>Feature 8 (Discrete)</th>\n",
       "      <th>Feature 9</th>\n",
       "      <th>Feature 11</th>\n",
       "      <th>Feature 12</th>\n",
       "      <th>Feature 13</th>\n",
       "      <th>Feature 15</th>\n",
       "      <th>Feature 16</th>\n",
       "      <th>Feature 17</th>\n",
       "      <th>Feature 18</th>\n",
       "      <th>Feature 19 (Discrete)</th>\n",
       "      <th>Feature 20 (Discrete)</th>\n",
       "      <th>Feature 21 (Discrete)</th>\n",
       "      <th>Feature 22 (Discrete)</th>\n",
       "      <th>Feature 24</th>\n",
       "    </tr>\n",
       "  </thead>\n",
       "  <tbody>\n",
       "    <tr>\n",
       "      <th>0</th>\n",
       "      <td>1404</td>\n",
       "      <td>12</td>\n",
       "      <td>64</td>\n",
       "      <td>3</td>\n",
       "      <td>1</td>\n",
       "      <td>1</td>\n",
       "      <td>1</td>\n",
       "      <td>110.502</td>\n",
       "      <td>35797.1</td>\n",
       "      <td>0.000261</td>\n",
       "      <td>0.172</td>\n",
       "      <td>5000.5</td>\n",
       "      <td>0.0</td>\n",
       "      <td>0.000</td>\n",
       "      <td>15.04</td>\n",
       "      <td>104</td>\n",
       "      <td>12</td>\n",
       "      <td>2</td>\n",
       "      <td>32</td>\n",
       "      <td>37677.1</td>\n",
       "    </tr>\n",
       "    <tr>\n",
       "      <th>1</th>\n",
       "      <td>909</td>\n",
       "      <td>0</td>\n",
       "      <td>235</td>\n",
       "      <td>1</td>\n",
       "      <td>1</td>\n",
       "      <td>1</td>\n",
       "      <td>1</td>\n",
       "      <td>-40.448</td>\n",
       "      <td>35794.3</td>\n",
       "      <td>0.000178</td>\n",
       "      <td>0.032</td>\n",
       "      <td>3720.5</td>\n",
       "      <td>2200.3</td>\n",
       "      <td>4900.005</td>\n",
       "      <td>12.03</td>\n",
       "      <td>20</td>\n",
       "      <td>1</td>\n",
       "      <td>0</td>\n",
       "      <td>13</td>\n",
       "      <td>25239.1</td>\n",
       "    </tr>\n",
       "    <tr>\n",
       "      <th>2</th>\n",
       "      <td>654</td>\n",
       "      <td>3</td>\n",
       "      <td>175</td>\n",
       "      <td>1</td>\n",
       "      <td>1</td>\n",
       "      <td>1</td>\n",
       "      <td>1</td>\n",
       "      <td>-27.445</td>\n",
       "      <td>35803.3</td>\n",
       "      <td>0.000391</td>\n",
       "      <td>0.021</td>\n",
       "      <td>4685.4</td>\n",
       "      <td>1973.3</td>\n",
       "      <td>10000.004</td>\n",
       "      <td>13.01</td>\n",
       "      <td>1</td>\n",
       "      <td>1</td>\n",
       "      <td>0</td>\n",
       "      <td>13</td>\n",
       "      <td>27683.5</td>\n",
       "    </tr>\n",
       "    <tr>\n",
       "      <th>3</th>\n",
       "      <td>1372</td>\n",
       "      <td>12</td>\n",
       "      <td>382</td>\n",
       "      <td>2</td>\n",
       "      <td>0</td>\n",
       "      <td>1</td>\n",
       "      <td>0</td>\n",
       "      <td>0.001</td>\n",
       "      <td>513.5</td>\n",
       "      <td>0.000291</td>\n",
       "      <td>97.541</td>\n",
       "      <td>0.0</td>\n",
       "      <td>0.0</td>\n",
       "      <td>0.000</td>\n",
       "      <td>0.00</td>\n",
       "      <td>313</td>\n",
       "      <td>12</td>\n",
       "      <td>10</td>\n",
       "      <td>54</td>\n",
       "      <td>39363.2</td>\n",
       "    </tr>\n",
       "    <tr>\n",
       "      <th>4</th>\n",
       "      <td>786</td>\n",
       "      <td>3</td>\n",
       "      <td>199</td>\n",
       "      <td>1</td>\n",
       "      <td>0</td>\n",
       "      <td>1</td>\n",
       "      <td>0</td>\n",
       "      <td>0.001</td>\n",
       "      <td>697.3</td>\n",
       "      <td>0.006050</td>\n",
       "      <td>97.981</td>\n",
       "      <td>4.1</td>\n",
       "      <td>0.0</td>\n",
       "      <td>0.000</td>\n",
       "      <td>0.00</td>\n",
       "      <td>171</td>\n",
       "      <td>1</td>\n",
       "      <td>5</td>\n",
       "      <td>11</td>\n",
       "      <td>40044.4</td>\n",
       "    </tr>\n",
       "    <tr>\n",
       "      <th>...</th>\n",
       "      <td>...</td>\n",
       "      <td>...</td>\n",
       "      <td>...</td>\n",
       "      <td>...</td>\n",
       "      <td>...</td>\n",
       "      <td>...</td>\n",
       "      <td>...</td>\n",
       "      <td>...</td>\n",
       "      <td>...</td>\n",
       "      <td>...</td>\n",
       "      <td>...</td>\n",
       "      <td>...</td>\n",
       "      <td>...</td>\n",
       "      <td>...</td>\n",
       "      <td>...</td>\n",
       "      <td>...</td>\n",
       "      <td>...</td>\n",
       "      <td>...</td>\n",
       "      <td>...</td>\n",
       "      <td>...</td>\n",
       "    </tr>\n",
       "    <tr>\n",
       "      <th>989</th>\n",
       "      <td>1388</td>\n",
       "      <td>0</td>\n",
       "      <td>382</td>\n",
       "      <td>2</td>\n",
       "      <td>0</td>\n",
       "      <td>1</td>\n",
       "      <td>0</td>\n",
       "      <td>0.002</td>\n",
       "      <td>656.5</td>\n",
       "      <td>0.002000</td>\n",
       "      <td>98.072</td>\n",
       "      <td>2700.4</td>\n",
       "      <td>0.0</td>\n",
       "      <td>0.000</td>\n",
       "      <td>0.00</td>\n",
       "      <td>104</td>\n",
       "      <td>12</td>\n",
       "      <td>11</td>\n",
       "      <td>53</td>\n",
       "      <td>41473.4</td>\n",
       "    </tr>\n",
       "    <tr>\n",
       "      <th>990</th>\n",
       "      <td>1339</td>\n",
       "      <td>0</td>\n",
       "      <td>344</td>\n",
       "      <td>3</td>\n",
       "      <td>0</td>\n",
       "      <td>1</td>\n",
       "      <td>0</td>\n",
       "      <td>0.002</td>\n",
       "      <td>540.3</td>\n",
       "      <td>0.001190</td>\n",
       "      <td>97.462</td>\n",
       "      <td>1.3</td>\n",
       "      <td>0.0</td>\n",
       "      <td>0.000</td>\n",
       "      <td>0.00</td>\n",
       "      <td>205</td>\n",
       "      <td>12</td>\n",
       "      <td>10</td>\n",
       "      <td>63</td>\n",
       "      <td>40916.2</td>\n",
       "    </tr>\n",
       "    <tr>\n",
       "      <th>991</th>\n",
       "      <td>527</td>\n",
       "      <td>7</td>\n",
       "      <td>40</td>\n",
       "      <td>5</td>\n",
       "      <td>2</td>\n",
       "      <td>1</td>\n",
       "      <td>3</td>\n",
       "      <td>0.005</td>\n",
       "      <td>19162.4</td>\n",
       "      <td>0.000627</td>\n",
       "      <td>64.825</td>\n",
       "      <td>1415.5</td>\n",
       "      <td>0.0</td>\n",
       "      <td>1000.002</td>\n",
       "      <td>7.02</td>\n",
       "      <td>101</td>\n",
       "      <td>6</td>\n",
       "      <td>7</td>\n",
       "      <td>95</td>\n",
       "      <td>37938.4</td>\n",
       "    </tr>\n",
       "    <tr>\n",
       "      <th>992</th>\n",
       "      <td>1144</td>\n",
       "      <td>12</td>\n",
       "      <td>120</td>\n",
       "      <td>3</td>\n",
       "      <td>0</td>\n",
       "      <td>1</td>\n",
       "      <td>0</td>\n",
       "      <td>0.003</td>\n",
       "      <td>803.3</td>\n",
       "      <td>0.001260</td>\n",
       "      <td>98.503</td>\n",
       "      <td>300.1</td>\n",
       "      <td>0.0</td>\n",
       "      <td>0.000</td>\n",
       "      <td>0.00</td>\n",
       "      <td>166</td>\n",
       "      <td>12</td>\n",
       "      <td>11</td>\n",
       "      <td>53</td>\n",
       "      <td>33433.5</td>\n",
       "    </tr>\n",
       "    <tr>\n",
       "      <th>993</th>\n",
       "      <td>1284</td>\n",
       "      <td>0</td>\n",
       "      <td>346</td>\n",
       "      <td>0</td>\n",
       "      <td>0</td>\n",
       "      <td>1</td>\n",
       "      <td>0</td>\n",
       "      <td>0.002</td>\n",
       "      <td>485.5</td>\n",
       "      <td>0.001390</td>\n",
       "      <td>97.322</td>\n",
       "      <td>3.3</td>\n",
       "      <td>0.0</td>\n",
       "      <td>0.000</td>\n",
       "      <td>0.00</td>\n",
       "      <td>289</td>\n",
       "      <td>12</td>\n",
       "      <td>11</td>\n",
       "      <td>134</td>\n",
       "      <td>40927.1</td>\n",
       "    </tr>\n",
       "  </tbody>\n",
       "</table>\n",
       "<p>994 rows × 20 columns</p>\n",
       "</div>"
      ],
      "text/plain": [
       "     Feature 1 (Discrete)  Feature 2 (Discrete)  Feature 3 (Discrete)  \\\n",
       "0                    1404                    12                    64   \n",
       "1                     909                     0                   235   \n",
       "2                     654                     3                   175   \n",
       "3                    1372                    12                   382   \n",
       "4                     786                     3                   199   \n",
       "..                    ...                   ...                   ...   \n",
       "989                  1388                     0                   382   \n",
       "990                  1339                     0                   344   \n",
       "991                   527                     7                    40   \n",
       "992                  1144                    12                   120   \n",
       "993                  1284                     0                   346   \n",
       "\n",
       "     Feature 5 (Discrete)  Feature 6 (Discrete)  Feature 7 (Discrete)  \\\n",
       "0                       3                     1                     1   \n",
       "1                       1                     1                     1   \n",
       "2                       1                     1                     1   \n",
       "3                       2                     0                     1   \n",
       "4                       1                     0                     1   \n",
       "..                    ...                   ...                   ...   \n",
       "989                     2                     0                     1   \n",
       "990                     3                     0                     1   \n",
       "991                     5                     2                     1   \n",
       "992                     3                     0                     1   \n",
       "993                     0                     0                     1   \n",
       "\n",
       "     Feature 8 (Discrete)  Feature 9  Feature 11  Feature 12  Feature 13  \\\n",
       "0                       1    110.502     35797.1    0.000261       0.172   \n",
       "1                       1    -40.448     35794.3    0.000178       0.032   \n",
       "2                       1    -27.445     35803.3    0.000391       0.021   \n",
       "3                       0      0.001       513.5    0.000291      97.541   \n",
       "4                       0      0.001       697.3    0.006050      97.981   \n",
       "..                    ...        ...         ...         ...         ...   \n",
       "989                     0      0.002       656.5    0.002000      98.072   \n",
       "990                     0      0.002       540.3    0.001190      97.462   \n",
       "991                     3      0.005     19162.4    0.000627      64.825   \n",
       "992                     0      0.003       803.3    0.001260      98.503   \n",
       "993                     0      0.002       485.5    0.001390      97.322   \n",
       "\n",
       "     Feature 15  Feature 16  Feature 17  Feature 18  Feature 19 (Discrete)  \\\n",
       "0        5000.5         0.0       0.000       15.04                    104   \n",
       "1        3720.5      2200.3    4900.005       12.03                     20   \n",
       "2        4685.4      1973.3   10000.004       13.01                      1   \n",
       "3           0.0         0.0       0.000        0.00                    313   \n",
       "4           4.1         0.0       0.000        0.00                    171   \n",
       "..          ...         ...         ...         ...                    ...   \n",
       "989      2700.4         0.0       0.000        0.00                    104   \n",
       "990         1.3         0.0       0.000        0.00                    205   \n",
       "991      1415.5         0.0    1000.002        7.02                    101   \n",
       "992       300.1         0.0       0.000        0.00                    166   \n",
       "993         3.3         0.0       0.000        0.00                    289   \n",
       "\n",
       "     Feature 20 (Discrete)  Feature 21 (Discrete)  Feature 22 (Discrete)  \\\n",
       "0                       12                      2                     32   \n",
       "1                        1                      0                     13   \n",
       "2                        1                      0                     13   \n",
       "3                       12                     10                     54   \n",
       "4                        1                      5                     11   \n",
       "..                     ...                    ...                    ...   \n",
       "989                     12                     11                     53   \n",
       "990                     12                     10                     63   \n",
       "991                      6                      7                     95   \n",
       "992                     12                     11                     53   \n",
       "993                     12                     11                    134   \n",
       "\n",
       "     Feature 24  \n",
       "0       37677.1  \n",
       "1       25239.1  \n",
       "2       27683.5  \n",
       "3       39363.2  \n",
       "4       40044.4  \n",
       "..          ...  \n",
       "989     41473.4  \n",
       "990     40916.2  \n",
       "991     37938.4  \n",
       "992     33433.5  \n",
       "993     40927.1  \n",
       "\n",
       "[994 rows x 20 columns]"
      ]
     },
     "execution_count": 102,
     "metadata": {},
     "output_type": "execute_result"
    }
   ],
   "source": [
    "X_for_knn"
   ]
  },
  {
   "cell_type": "code",
   "execution_count": 103,
   "id": "ec1782d9",
   "metadata": {},
   "outputs": [
    {
     "data": {
      "text/plain": [
       "[<matplotlib.lines.Line2D at 0x269f29920d0>]"
      ]
     },
     "execution_count": 103,
     "metadata": {},
     "output_type": "execute_result"
    },
    {
     "data": {
      "image/png": "[encoded data removed]",
      "text/plain": [
       "<Figure size 640x480 with 1 Axes>"
      ]
     },
     "metadata": {},
     "output_type": "display_data"
    }
   ],
   "source": [
    "score_list = []\n",
    "for i in range(1,50):\n",
    "    model_3 = KNeighborsClassifier(n_neighbors = i, weights='distance',p=1)\n",
    "    model_3.fit(X_train,y_train)\n",
    "    score_list.append(model_3.score(X_test,y_test))\n",
    "    \n",
    "plt.plot(range(1,50),score_list)"
   ]
  },
  {
   "cell_type": "code",
   "execution_count": 104,
   "id": "4e7d5a57",
   "metadata": {},
   "outputs": [
    {
     "data": {
      "text/plain": [
       "0.7788944723618091"
      ]
     },
     "execution_count": 104,
     "metadata": {},
     "output_type": "execute_result"
    }
   ],
   "source": [
    "model_3 = KNeighborsClassifier(n_neighbors =4, weights='distance',p=1)\n",
    "model_3.fit(X_train_for_knn,y_train_for_knn)\n",
    "model_3.score(X_test_for_knn,y_test_for_knn)"
   ]
  },
  {
   "cell_type": "code",
   "execution_count": 105,
   "id": "910d1ce2",
   "metadata": {},
   "outputs": [
    {
     "data": {
      "text/plain": [
       "array([ 1,  0,  1,  1,  1,  2,  1,  5,  5,  1,  1,  1,  0,  1,  2,  0,  1,\n",
       "        1,  1,  1,  1,  1,  1,  1,  1,  0,  6,  1,  1,  0, 14,  1,  1,  6,\n",
       "        1,  0,  6,  0,  0,  1,  1,  1,  1,  1,  0,  2,  1,  0,  1,  1,  2,\n",
       "        1,  1,  1,  1,  1,  6,  0,  0,  0,  1,  1,  1,  6,  1,  1,  2,  2,\n",
       "        1,  1,  1,  0,  1,  1,  6,  1,  1,  1,  1,  1,  1,  1,  0,  0,  6,\n",
       "        0,  1,  1,  1,  1,  1,  0,  0,  1,  1,  1,  2,  1,  0,  1,  1,  2,\n",
       "        1,  1,  1,  1,  1,  0,  2,  0,  1,  0, 14,  0,  1,  6,  0,  1,  0,\n",
       "        1,  0, 14,  1,  1,  6,  1,  1,  1,  1,  1,  1,  1,  1,  0,  0,  0,\n",
       "        0,  2,  1,  0,  1,  1,  0,  1,  1,  1,  6,  0,  1,  1,  1,  1,  6,\n",
       "        1,  1,  1,  1,  0,  1,  1,  0,  1,  0,  0,  0,  1,  0,  0,  0,  1,\n",
       "        0,  1,  1,  1,  1,  1,  1,  1,  1,  0,  0,  1,  1,  1,  0,  1,  1,\n",
       "        1,  2,  1,  5,  0,  0,  6,  1,  1,  0,  2,  1,  1,  1,  0,  1,  6,\n",
       "        1,  1,  1,  0,  1, 14,  0,  0,  0,  0,  2,  1,  1,  1,  1,  1,  1,\n",
       "        1,  0,  1,  1,  6,  1,  1,  0,  1,  2,  1,  1,  5,  1,  5,  1,  1,\n",
       "        0,  0,  0,  1,  1,  1,  1,  5,  1,  6,  0,  1,  0,  1,  1,  1,  1,\n",
       "        2,  0,  0,  5,  1,  6,  1,  1,  0,  0,  0,  0,  0,  1,  1,  0,  1,\n",
       "        1,  2,  5,  6,  0,  2,  0,  1,  1,  1,  1,  1,  0,  1,  0,  1,  0,\n",
       "        1,  1,  1,  1,  6,  0,  1,  0,  1, 14,  1,  1,  1,  1,  1,  0, 14,\n",
       "        1,  1,  6,  1,  2,  1,  1,  0,  1,  1,  0,  1,  1,  1,  1,  1,  0,\n",
       "        0,  1,  0,  1,  0,  1,  1,  2,  0,  1,  1,  1,  1,  1,  1,  1,  1,\n",
       "        0,  1,  1,  1,  1,  0,  0,  0,  1,  1,  1, 14,  0,  5,  1,  0,  0,\n",
       "        6,  2,  6,  2,  1,  2,  1,  1,  2,  1,  0,  1,  0,  1,  1,  1,  1,\n",
       "        0,  1,  1,  1,  0,  1,  2,  1,  2,  1,  1,  0,  1,  1,  1,  1,  1,\n",
       "        0,  1,  1,  1,  1,  0,  1,  1,  2,  1,  1,  6,  0,  1,  0,  1,  1,\n",
       "        1,  1,  1,  1,  0,  1,  1,  1,  0,  1,  0,  1,  1,  1,  1,  1,  1,\n",
       "        0], dtype=int64)"
      ]
     },
     "execution_count": 105,
     "metadata": {},
     "output_type": "execute_result"
    }
   ],
   "source": [
    "y_pred_3=model_3.predict(X_actual_test)\n",
    "y_pred_3"
   ]
  },
  {
   "cell_type": "markdown",
   "id": "493d040c",
   "metadata": {},
   "source": [
    "### Weighted Mode "
   ]
  },
  {
   "cell_type": "code",
   "execution_count": 106,
   "id": "c9630b4e",
   "metadata": {},
   "outputs": [],
   "source": [
    "from sklearn.utils.extmath import weighted_mode"
   ]
  },
  {
   "cell_type": "code",
   "execution_count": 107,
   "id": "ea0b51c9",
   "metadata": {},
   "outputs": [],
   "source": [
    "w1=[1.1]*426\n",
    "w2=[1.05]*426\n",
    "w3=[1.0]*426\n",
    "w4=[1.2]*426\n",
    "x=[y_pred_1,y_pred_2,y_pred_3,y_pred_4]\n",
    "weights = [w1,w2,w3,w4]\n",
    "y_pred=weighted_mode(x, weights)\n",
    "y_pred=y_pred[0][0].astype('int')"
   ]
  },
  {
   "cell_type": "markdown",
   "id": "e6d0f06a",
   "metadata": {},
   "source": [
    "### Storing the CSV file"
   ]
  },
  {
   "cell_type": "code",
   "execution_count": 108,
   "id": "cf969613",
   "metadata": {},
   "outputs": [],
   "source": [
    "y_pred\n",
    "# Create a DataFrame with 'Id' and 'Category'\n",
    "df_predictions = pd.DataFrame({'Id': range(1, len(predicted_labels) + 1), 'Category': y_pred})\n",
    "\n",
    "# Save the DataFrame to a CSV file\n",
    "df_predictions.to_csv('predictions_weighted_mode.csv', index=False)"
   ]
  },
  {
   "cell_type": "code",
   "execution_count": 68,
   "id": "4f1db17c",
   "metadata": {},
   "outputs": [
    {
     "data": {
      "text/plain": [
       "array([ 6,  2,  1,  1,  1,  2,  1,  5,  5,  0,  1,  6,  0,  1,  2,  0,  2,\n",
       "        1,  1,  1,  5,  2,  1,  1,  0,  2,  6,  0,  1,  0,  0,  1,  1,  6,\n",
       "        1,  0,  6,  0,  0,  1,  1,  1,  1,  1,  0,  1,  1,  0,  6,  1,  1,\n",
       "        1,  1,  1,  1,  1,  6,  2,  0,  0,  1,  1,  1,  6,  1,  1,  2,  2,\n",
       "        1,  2,  1,  2,  1,  1,  6,  1,  1,  1,  1,  1,  5,  1,  0,  4,  6,\n",
       "        0,  1,  1,  1,  1,  1,  0,  2,  1,  1,  1,  0,  1,  2,  0,  1,  0,\n",
       "        0,  1,  1,  1,  1,  2,  0,  2,  1,  0,  0,  0,  0,  6,  0,  1,  2,\n",
       "        1,  0,  1,  1,  1,  6,  1,  1,  2,  1,  1,  1,  1,  1,  0,  0,  2,\n",
       "        1,  2,  1,  0,  0,  1,  0,  2,  1,  1,  6,  1,  2,  0,  1,  1,  6,\n",
       "        1,  1,  1,  1,  0,  1,  1,  0,  1,  0,  0,  8,  1,  0,  0,  0,  1,\n",
       "        0,  0,  1,  1,  1,  1,  1,  1,  0,  0,  2,  5,  1,  1,  2,  1,  1,\n",
       "        1,  4,  1,  5,  0,  2,  6,  1,  1,  0,  2,  1,  1,  1,  0,  1,  6,\n",
       "        1,  1,  1,  0,  1, 14,  0,  0,  0,  0,  2,  1,  1,  0,  1,  1,  1,\n",
       "        1,  0,  1,  1,  6,  1,  1,  0,  1,  2,  1,  1,  5,  1,  0,  1,  1,\n",
       "        0,  0,  0,  1,  1,  2,  6,  5,  1,  6,  0,  1,  0,  2,  1,  1,  1,\n",
       "       15,  0,  0,  0,  1,  6,  1,  1,  0,  0,  0,  0,  0,  0,  0,  0,  0,\n",
       "        1,  2,  5,  6,  0,  0,  3,  1,  1,  1,  1,  2,  5,  1,  2,  1,  0,\n",
       "        1,  0,  1,  1,  6,  0,  2,  0,  1, 14,  5,  1,  1,  1,  1,  1,  1,\n",
       "        1,  1,  6,  1,  2,  1,  2,  0,  1,  1,  5,  2,  2,  1,  1,  1,  0,\n",
       "        0,  1,  0,  1,  0,  1,  1,  0,  0,  1,  1,  1,  1,  1,  1,  1,  1,\n",
       "        0,  1,  1,  1,  0,  2,  0,  0,  1,  1,  1,  1,  2,  1,  1,  1,  0,\n",
       "        6,  2,  6,  2,  1,  2,  0,  6,  0,  1,  0,  1,  0,  1,  1,  1,  1,\n",
       "        0,  1,  1,  1,  0,  1,  5,  1,  2,  1,  1,  0,  2,  1,  1,  1,  1,\n",
       "        0,  0,  2,  1,  1,  5,  1,  4,  2,  1,  1,  6,  2,  2,  0,  1,  1,\n",
       "        1,  1,  1,  1,  2,  1,  1,  1,  0,  2,  0,  1,  0,  1,  1,  1,  1,\n",
       "        0], dtype=int64)"
      ]
     },
     "execution_count": 68,
     "metadata": {},
     "output_type": "execute_result"
    }
   ],
   "source": [
    "predicted_labels"
   ]
  }
 ],
 "metadata": {
  "kernelspec": {
   "display_name": "Python 3 (ipykernel)",
   "language": "python",
   "name": "python3"
  },
  "language_info": {
   "codemirror_mode": {
    "name": "ipython",
    "version": 3
   },
   "file_extension": ".py",
   "mimetype": "text/x-python",
   "name": "python",
   "nbconvert_exporter": "python",
   "pygments_lexer": "ipython3",
   "version": "3.11.5"
  }
 },
 "nbformat": 4,
 "nbformat_minor": 5
}
