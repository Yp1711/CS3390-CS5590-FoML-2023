{
 "cells": [
  {
   "cell_type": "markdown",
   "id": "67f9484f",
   "metadata": {},
   "source": [
    "# Gradient Boosting \n",
    "### Got 57.024% (Public) & 44.352% (Private)"
   ]
  },
  {
   "cell_type": "markdown",
   "metadata": {},
   "source": [
    "```submitted by\n",
    "Yug Patel - CS23MTECH14019\n",
    "Bhargav Patel - CS23MTECH11026"
   ]
  },
  {
   "cell_type": "code",
   "execution_count": 3,
   "id": "cc2f35d3",
   "metadata": {},
   "outputs": [],
   "source": [
    "import pandas as pd\n",
    "import numpy as np\n",
    "import matplotlib.pyplot as plt\n",
    "from sklearn.model_selection import train_test_split\n",
    "from sklearn.preprocessing import StandardScaler\n",
    "from sklearn.datasets import make_classification\n",
    "from sklearn.ensemble import GradientBoostingClassifier\n",
    "%matplotlib inline"
   ]
  },
  {
   "cell_type": "code",
   "execution_count": 4,
   "id": "0898b33f",
   "metadata": {},
   "outputs": [
    {
     "data": {
      "text/plain": [
       "Feature 1 (Discrete)         -0.035219\n",
       "Feature 2 (Discrete)         -0.053451\n",
       "Feature 3 (Discrete)         -0.069282\n",
       "Feature 4 (Discrete)         -0.014784\n",
       "Feature 5 (Discrete)          0.191183\n",
       "Feature 6 (Discrete)          0.282696\n",
       "Feature 7 (Discrete)         -0.170527\n",
       "Feature 8 (Discrete)          0.074167\n",
       "Feature 9                     0.059680\n",
       "Feature 10                    0.024022\n",
       "Feature 11                    0.083232\n",
       "Feature 12                    0.077826\n",
       "Feature 13                    0.053825\n",
       "Feature 14                    0.049631\n",
       "Feature 15                   -0.115707\n",
       "Feature 16                   -0.075607\n",
       "Feature 17                   -0.131365\n",
       "Feature 18                   -0.061317\n",
       "Feature 19 (Discrete)         0.051699\n",
       "Feature 20 (Discrete)         0.143286\n",
       "Feature 21 (Discrete)        -0.045311\n",
       "Feature 22 (Discrete)         0.052072\n",
       "Feature 23 (Discrete)        -0.035562\n",
       "Feature 24                    0.086545\n",
       "Target Variable (Discrete)    1.000000\n",
       "Name: Target Variable (Discrete), dtype: float64"
      ]
     },
     "execution_count": 4,
     "metadata": {},
     "output_type": "execute_result"
    }
   ],
   "source": [
    "train_raw = pd.read_csv(r\"iith_foml_2023_train.csv\")\n",
    "train_raw = train_raw.fillna(train_raw.mean())\n",
    "train_raw_corr = train_raw.corr()\n",
    "train_raw_corr.iloc[-1,:] "
   ]
  },
  {
   "cell_type": "code",
   "execution_count": 5,
   "id": "00163d7a",
   "metadata": {},
   "outputs": [],
   "source": [
    "target_correlation_threshold = 0.15\n",
    "selected_features = train_raw_corr[(train_raw_corr['Target Variable (Discrete)'] > target_correlation_threshold) | (train_raw_corr['Target Variable (Discrete)'] < -target_correlation_threshold)].index\n",
    "subset_1=train_raw[selected_features]\n",
    "drop_subset_2=['Feature 9', 'Feature 10', 'Feature 13', 'Feature 14', 'Feature 19 (Discrete)', 'Feature 21 (Discrete)' , 'Feature 22 (Discrete)', 'Feature 23 (Discrete)']\n",
    "drop_subset_3=['Feature 10', 'Feature 14', 'Feature 4 (Discrete)', 'Feature 23 (Discrete)']\n",
    "drop_subset_4=['Feature 21 (Discrete)','Feature 3 (Discrete)','Feature 2 (Discrete)','Feature 18','Feature 9','Feature 19 (Discrete)','Feature 13','Feature 10', 'Feature 14', 'Feature 4 (Discrete)', 'Feature 23 (Discrete)','Feature 22 (Discrete)']\n",
    "drop_subset_5=['Feature 14', 'Feature 23 (Discrete)']\n",
    "subset_2=train_raw.drop(drop_subset_2,axis=1)\n",
    "subset_3=train_raw.drop(drop_subset_3,axis=1)\n",
    "subset_4=train_raw.drop(drop_subset_4,axis=1)\n",
    "subset_5=train_raw.drop(drop_subset_5,axis=1)"
   ]
  },
  {
   "cell_type": "code",
   "execution_count": 6,
   "id": "1052b98c",
   "metadata": {},
   "outputs": [
    {
     "name": "stdout",
     "output_type": "stream",
     "text": [
      "Accuracy for GB Target Variable (Discrete): 1.0\n"
     ]
    }
   ],
   "source": [
    "import pandas as pd\n",
    "from sklearn.model_selection import train_test_split\n",
    "from sklearn.metrics import accuracy_score\n",
    "from sklearn.ensemble import GradientBoostingClassifier\n",
    "\n",
    "# Function to train Gradient Boosting model and print accuracy\n",
    "def train_gradient_boosting_model(subset, target_column):\n",
    "    X = subset.drop(target_column, axis=1)\n",
    "    y = subset[target_column]\n",
    "    \n",
    "    # Split the data into training and testing sets\n",
    "    X_train, X_test, y_train, y_test = train_test_split(X, y, test_size=0.2, random_state=42)\n",
    "        \n",
    "    # Create a Gradient Boosting classifier\n",
    "    model_GB = GradientBoostingClassifier(random_state=42)\n",
    "\n",
    "    # Train the model\n",
    "    model_GB.fit(X_train, y_train)\n",
    "\n",
    "    # Make predictions on the test set\n",
    "    y_pred_GB = model_GB.predict(X_test)\n",
    "    \n",
    "    # Calculate accuracy and print it\n",
    "    accuracy_GB = accuracy_score(y_test, y_pred_GB)\n",
    "    print(f\"Accuracy for GB {target_column}: {accuracy_GB}\")\n",
    "\n",
    "    return model_GB\n",
    "\n",
    "# # Train Gradient Boosting models on each subset\n",
    "# model_GB_raw = train_gradient_boosting_model(train_raw, 'Target Variable (Discrete)')\n",
    "# model_GB_1 = train_gradient_boosting_model(subset_1, 'Target Variable (Discrete)')\n",
    "# model_GB_2 = train_gradient_boosting_model(subset_2, 'Target Variable (Discrete)')\n",
    "model_GB_3 = train_gradient_boosting_model(subset_3, 'Target Variable (Discrete)')\n",
    "# model_GB_4 = train_gradient_boosting_model(subset_4, 'Target Variable (Discrete)')\n",
    "# model_GB_5 = train_gradient_boosting_model(subset_5, 'Target Variable (Discrete)')"
   ]
  },
  {
   "cell_type": "code",
   "execution_count": 7,
   "id": "a1d7cb9d",
   "metadata": {},
   "outputs": [],
   "source": [
    "subset_1 = subset_1.copy()\n",
    "subset_2 = subset_2.copy()\n",
    "subset_3 = subset_3.copy()\n",
    "subset_4 = subset_4.copy()\n",
    "subset_5 = subset_5.copy()\n",
    "\n",
    "subset_1.drop(['Target Variable (Discrete)'], axis=1, inplace=True)\n",
    "subset_2.drop(['Target Variable (Discrete)'], axis=1, inplace=True)\n",
    "subset_3.drop(['Target Variable (Discrete)'], axis=1, inplace=True)\n",
    "subset_4.drop(['Target Variable (Discrete)'], axis=1, inplace=True)\n",
    "subset_5.drop(['Target Variable (Discrete)'], axis=1, inplace=True)"
   ]
  },
  {
   "cell_type": "code",
   "execution_count": 8,
   "id": "f96f501f",
   "metadata": {},
   "outputs": [],
   "source": [
    "test_raw = pd.read_csv(r\"iith_foml_2023_test.csv\")\n",
    "test_raw = test_raw.fillna(test_raw.mean())"
   ]
  },
  {
   "cell_type": "markdown",
   "id": "4da9838d",
   "metadata": {},
   "source": [
    "## Testing and storing pred.csv for all the subset's"
   ]
  },
  {
   "cell_type": "code",
   "execution_count": 9,
   "id": "fa64a020",
   "metadata": {},
   "outputs": [],
   "source": [
    "# Define a function for making predictions and storing results\n",
    "def predict_and_save(model, subset, target_column, output_file):\n",
    "    X_test = subset\n",
    "    Id = list(range(1, len(X_test) + 1))\n",
    "\n",
    "    # Make predictions on the test set\n",
    "    predictions = model.predict(X_test)\n",
    "\n",
    "    # Create a DataFrame with Serial No. and predicted target variable\n",
    "    result_df = pd.DataFrame({'Id': Id, 'Category': predictions})\n",
    "\n",
    "    # Save the result to a CSV file\n",
    "    result_df.to_csv(output_file, index=False)\n",
    "\n",
    "# Make predictions for each subset and save results\n",
    "# predict_and_save(model_GB_raw, test_raw, 'Target Variable (Discrete)', 'pred_model_GB_raw.csv')\n",
    "# predict_and_save(model_GB_1, test_data[subset_1.columns], 'Target Variable (Discrete)', 'pred_model_GB_1.csv')\n",
    "# predict_and_save(model_GB_2, test_data[subset_2.columns], 'Target Variable (Discrete)', 'pred_model_GB_2.csv')\n",
    "predict_and_save(model_GB_3, test_raw[subset_3.columns], 'Target Variable (Discrete)', 'predictions_gradient_boosting.csv')\n",
    "# predict_and_save(model_GB_4, test_data[subset_4.columns], 'Target Variable (Discrete)', 'pred_model_GB_4.csv')\n",
    "# predict_and_save(model_GB_5, test_data[subset_5.columns], 'Target Variable (Discrete)', 'pred_model_GB_5.csv')"
   ]
  },
  {
   "cell_type": "code",
   "execution_count": null,
   "id": "b162247c",
   "metadata": {},
   "outputs": [],
   "source": []
  }
 ],
 "metadata": {
  "kernelspec": {
   "display_name": "Python 3 (ipykernel)",
   "language": "python",
   "name": "python3"
  },
  "language_info": {
   "codemirror_mode": {
    "name": "ipython",
    "version": 3
   },
   "file_extension": ".py",
   "mimetype": "text/x-python",
   "name": "python",
   "nbconvert_exporter": "python",
   "pygments_lexer": "ipython3",
   "version": "3.11.5"
  }
 },
 "nbformat": 4,
 "nbformat_minor": 5
}
